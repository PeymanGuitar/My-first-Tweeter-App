{
 "cells": [
  {
   "cell_type": "markdown",
   "metadata": {},
   "source": [
    "#### Change the path if necessary."
   ]
  },
  {
   "cell_type": "code",
   "execution_count": 1,
   "metadata": {},
   "outputs": [],
   "source": [
    "import findspark\n",
    "findspark.init('/home/peyman/spark-2.0.0-bin-hadoop2.7')"
   ]
  },
  {
   "cell_type": "markdown",
   "metadata": {},
   "source": [
    "#### Let's import the libraries that we want to use."
   ]
  },
  {
   "cell_type": "code",
   "execution_count": 2,
   "metadata": {},
   "outputs": [],
   "source": [
    "from pyspark import SparkContext\n",
    "from pyspark.streaming import StreamingContext\n",
    "from pyspark.sql import SQLContext\n",
    "from pyspark.sql.functions import desc\n",
    "import time\n",
    "import datetime\n",
    "import pandas as pd"
   ]
  },
  {
   "cell_type": "markdown",
   "metadata": {},
   "source": [
    "#### Create a local StreamingContext with two working thread and batch interval of 10 second"
   ]
  },
  {
   "cell_type": "code",
   "execution_count": 3,
   "metadata": {},
   "outputs": [],
   "source": [
    "sc = SparkContext()\n",
    "ssc = StreamingContext(sc,10)\n",
    "sqlContext = SQLContext(sc)"
   ]
  },
  {
   "cell_type": "code",
   "execution_count": 4,
   "metadata": {},
   "outputs": [],
   "source": [
    "ssc.checkpoint(\"The most popular Tweeter hashtag by track\")"
   ]
  },
  {
   "cell_type": "markdown",
   "metadata": {},
   "source": [
    "#### Create a DStream that will connect to my local machine and port."
   ]
  },
  {
   "cell_type": "code",
   "execution_count": 5,
   "metadata": {},
   "outputs": [],
   "source": [
    "socket_stream = ssc.socketTextStream(\"127.0.0.1\", 5593)"
   ]
  },
  {
   "cell_type": "markdown",
   "metadata": {},
   "source": [
    "#### Lets create new DStreams in which each RDD contains all the elements in seen in a sliding window of 30 seconds over this DStream."
   ]
  },
  {
   "cell_type": "code",
   "execution_count": 6,
   "metadata": {},
   "outputs": [],
   "source": [
    "lines = socket_stream.window(30)"
   ]
  },
  {
   "cell_type": "markdown",
   "metadata": {},
   "source": [
    "#### The following function will put together the tweets and counts in the above DStreams of 30 seconds."
   ]
  },
  {
   "cell_type": "code",
   "execution_count": 7,
   "metadata": {},
   "outputs": [],
   "source": [
    "def aggregate_tags_count(new_values, total_sum):\n",
    "    return sum(new_values) + (total_sum or 0)"
   ]
  },
  {
   "cell_type": "markdown",
   "metadata": {},
   "source": [
    "#### We need to extract tuples of hashtags and counts."
   ]
  },
  {
   "cell_type": "code",
   "execution_count": 8,
   "metadata": {},
   "outputs": [],
   "source": [
    "from collections import namedtuple\n",
    "fields = (\"tag\", \"count\" )\n",
    "Tweet = namedtuple( 'Tweet', fields )"
   ]
  },
  {
   "cell_type": "code",
   "execution_count": 9,
   "metadata": {},
   "outputs": [],
   "source": [
    "# Lets split the words from each tweet.\n",
    "words = lines.flatMap(lambda text: text.split(\" \"))\n",
    "\n",
    "# We convert each word to lower case therefore hashtags such as\n",
    "# Football and #football will be treated the same.\n",
    "\n",
    "wordsLowerCase = words.map(lambda word: word.lower())\n",
    "\n",
    "# Lets filter the words that start with a hashtag.\n",
    "\n",
    "hashtags = wordsLowerCase.filter(lambda word: word.startswith(\"#\"))\n",
    "\n",
    "# We map the hashtags to tuples of the form (hashtag,1) in order to count them.\n",
    "\n",
    "hashtagsMapped = hashtags.map(lambda x: (x,1))\n",
    "\n",
    "hashtagsMappedReduced = hashtagsMapped.reduceByKey(lambda x,y: x + y)\n",
    "\n",
    "# We sum up all of the counts of a hashtag from the time that we started\n",
    "# streaming.\n",
    "\n",
    "hashtagsMappedReducedUpdated = hashtagsMappedReduced.updateStateByKey(aggregate_tags_count)\n",
    "\n",
    "# Lets prepare the data to sit in a dataframe so we can have SQL queries.\n",
    "\n",
    "TagCount = hashtagsMappedReducedUpdated.map(lambda rec: Tweet(rec[0], rec[1] ))"
   ]
  },
  {
   "cell_type": "markdown",
   "metadata": {},
   "source": [
    "#### Using the below line, we let the updated (tag, count) sit in a temporary table."
   ]
  },
  {
   "cell_type": "code",
   "execution_count": 10,
   "metadata": {},
   "outputs": [],
   "source": [
    "TagCount.foreachRDD(lambda rdd: rdd.toDF().sort(desc(\"count\")).limit(10).registerTempTable(\"tweets\"))"
   ]
  },
  {
   "cell_type": "markdown",
   "metadata": {},
   "source": [
    "#### We start streaming."
   ]
  },
  {
   "cell_type": "code",
   "execution_count": 11,
   "metadata": {},
   "outputs": [],
   "source": [
    "ssc.start()"
   ]
  },
  {
   "cell_type": "markdown",
   "metadata": {},
   "source": [
    "#### In order to let the tweets stream, we need to let the file TweetRead.py activate and also we need to mention the track in the terminal so in a fresh terminal we need to mention python TweetRead.py Football as an example."
   ]
  },
  {
   "cell_type": "markdown",
   "metadata": {},
   "source": [
    "#### Moreover, we need to have 30 seconds sleep since we need to have our temporary table get started which takes 30 seconds from the start time."
   ]
  },
  {
   "cell_type": "code",
   "execution_count": 12,
   "metadata": {},
   "outputs": [],
   "source": [
    "time.sleep(30)"
   ]
  },
  {
   "cell_type": "code",
   "execution_count": null,
   "metadata": {},
   "outputs": [
    {
     "name": "stdout",
     "output_type": "stream",
     "text": [
      "----------------------------------------------\n",
      "2018-12-31 06:28:00.076860\n",
      "----------------------------------------------\n"
     ]
    },
    {
     "data": {
      "image/png": "[encoded data removed]",
      "text/plain": [
       "<Figure size 432x288 with 1 Axes>"
      ]
     },
     "metadata": {},
     "output_type": "display_data"
    }
   ],
   "source": [
    "%matplotlib inline\n",
    "import pandas as pd\n",
    "import matplotlib.pyplot as plt\n",
    "import sys\n",
    "from IPython.display import clear_output   # Lets clear the output so we see the most popular\n",
    "                                           # hashtag from the time the we started streaming.  \n",
    "for i in range(100):\n",
    "    print \"----------------------------------------------\"\n",
    "    print str(datetime.datetime.utcnow())\n",
    "    print \"----------------------------------------------\"\n",
    "    df = sqlContext.sql(\"SELECT * FROM tweets ORDER BY count ASC\").toPandas()\n",
    "    df[\"count\"] = pd.to_numeric(df[\"count\"])    \n",
    "    df.plot(x=\"tag\", y=\"count\", kind=\"barh\")\n",
    "    plt.pause(25)\n",
    "    clear_output()"
   ]
  },
  {
   "cell_type": "code",
   "execution_count": null,
   "metadata": {},
   "outputs": [],
   "source": []
  }
 ],
 "metadata": {
  "kernelspec": {
   "display_name": "Python 2",
   "language": "python",
   "name": "python2"
  },
  "language_info": {
   "codemirror_mode": {
    "name": "ipython",
    "version": 2
   },
   "file_extension": ".py",
   "mimetype": "text/x-python",
   "name": "python",
   "nbconvert_exporter": "python",
   "pygments_lexer": "ipython2",
   "version": "2.7.15rc1"
  }
 },
 "nbformat": 4,
 "nbformat_minor": 2
}
